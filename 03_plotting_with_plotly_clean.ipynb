{
 "cells": [
  {
   "cell_type": "markdown",
   "id": "873d6ad9",
   "metadata": {
    "slideshow": {
     "slide_type": "slide"
    }
   },
   "source": [
    "## 03_plotting_with_plotly"
   ]
  },
  {
   "cell_type": "markdown",
   "id": "d86146a1",
   "metadata": {
    "slideshow": {
     "slide_type": "slide"
    }
   },
   "source": [
    "### what is plotly?\n",
    "Plotly is an open source library for creating interactive graphs and maps in Python, R, Julia, Javascript, ggplot2, F#, MATLAB® and Dash. "
   ]
  },
  {
   "cell_type": "markdown",
   "id": "8099359c",
   "metadata": {},
   "source": [
    "The plotly Python library is an interactive, open-source plotting library that supports over 40 unique chart types covering a wide range of statistical, financial, geographic, scientific, and 3-dimensional use-cases.\n",
    "\n",
    "Plotly enables Python users to create interactive web-based visualizations that can be displayed in \n",
    "- Jupyter notebooks, \n",
    "- saved to standalone HTML files, or \n",
    "- served as part of pure Python-built web applications using Dash. "
   ]
  },
  {
   "cell_type": "markdown",
   "id": "f1acb381",
   "metadata": {
    "slideshow": {
     "slide_type": "slide"
    }
   },
   "source": [
    "### Plotly Express\n",
    "\n",
    "Plotly Express is a terse, consistent, high-level API for creating figures.\n",
    "\n",
    "Plotly Express currently includes the following functions:\n",
    "\n",
    "    Basics: scatter, line, area, bar, funnel, timeline\n",
    "    Part-of-Whole: pie, sunburst, treemap, funnel_area\n",
    "    1D Distributions: histogram, box, violin, strip\n",
    "    2D Distributions: density_heatmap, density_contour\n",
    "    Matrix Input: imshow\n",
    "    3-Dimensional: scatter_3d, line_3d\n",
    "    Multidimensional: scatter_matrix, parallel_coordinates, parallel_categories\n",
    "    Tile Maps: scatter_mapbox, line_mapbox, choropleth_mapbox, density_mapbox\n",
    "    Outline Maps: scatter_geo, line_geo, choropleth\n",
    "    Polar Charts: scatter_polar, line_polar, bar_polar\n",
    "    Ternary Charts: scatter_ternary, line_ternary"
   ]
  },
  {
   "cell_type": "markdown",
   "id": "4f8ebb89-f3a8-4981-94e9-fd7e238f6e03",
   "metadata": {},
   "source": [
    "### Let's start plotting with plotly!"
   ]
  },
  {
   "cell_type": "code",
   "execution_count": null,
   "id": "f14851b5-57de-4a9b-8eff-a0952e8275af",
   "metadata": {},
   "outputs": [],
   "source": [
    "import numpy as np\n",
    "import plotly.graph_objects as go\n",
    "\n",
    "# Generates 365 random temperature values\n",
    "np.random.seed(42)  # Set a seed for riproducibility\n",
    "temperature = np.random.normal(loc=20, scale=5, size=50)  # Mean temperature 20°C, Standar deviation 5°C\n",
    "\n",
    "# Crea il grafico a barre con Plotly\n",
    "fig = go.Figure(data=[go.Bar(x=list(range(1, 51)), y=temperature)])\n",
    "fig.update_layout(title='Trieste Daily Temperatures', xaxis_title='Day', yaxis_title='Temperature')\n",
    "fig.show()"
   ]
  },
  {
   "cell_type": "code",
   "execution_count": null,
   "id": "4d3e5b5c-93e0-4533-b4e8-c8773eb91d47",
   "metadata": {
    "scrolled": true
   },
   "outputs": [],
   "source": [
    "print(fig)"
   ]
  },
  {
   "cell_type": "code",
   "execution_count": null,
   "id": "54295660-855d-4cd8-80c6-d62dae1cab92",
   "metadata": {
    "jupyter": {
     "source_hidden": true
    }
   },
   "outputs": [],
   "source": [
    "figc = dict({\n",
    "    'data': [{'type': 'bar',\n",
    "              'x': [1, 2, 3, 4, 5, 6, 7, 8, 9, 10, 11, 12, 13, 14, 15, 16, 17, 18,\n",
    "                    19, 20, 21, 22, 23, 24, 25, 26, 27, 28, 29, 30, 31, 32, 33, 34,\n",
    "                    35, 36, 37, 38, 39, 40, 41, 42, 43, 44, 45, 46, 47, 48, 49, 50,\n",
    "                    51, 52, 53, 54, 55, 56, 57, 58, 59, 60, 61, 62, 63, 64, 65, 66,\n",
    "                    67, 68, 69, 70, 71, 72, 73, 74, 75, 76, 77, 78, 79, 80, 81, 82,\n",
    "                    83, 84, 85, 86, 87, 88, 89, 90, 91, 92, 93, 94, 95, 96, 97, 98,\n",
    "                    99, 100],\n",
    "              'y': np.array([22.48357077, 19.30867849, 23.23844269, 27.61514928, 18.82923313,\n",
    "                          18.82931522, 27.89606408, 23.83717365, 17.65262807, 22.71280022,\n",
    "                          17.68291154, 17.67135123, 21.20981136, 10.43359878, 11.37541084,\n",
    "                          17.18856235, 14.9358444 , 21.57123666, 15.45987962, 12.93848149,\n",
    "                          27.32824384, 18.8711185 , 20.33764102, 12.87625907, 17.27808638,\n",
    "                          20.55461295, 14.24503211, 21.87849009, 16.99680655, 18.54153125,\n",
    "                          16.99146694, 29.26139092, 19.93251388, 14.71144536, 24.11272456,\n",
    "                          13.89578175, 21.04431798, 10.20164938, 13.35906976, 20.98430618,\n",
    "                          23.6923329 , 20.85684141, 19.42175859, 18.49448152, 12.60739005,\n",
    "                          16.40077896, 17.69680615, 25.28561113, 21.71809145, 11.18479922,\n",
    "                          21.62041985, 18.0745886 , 16.61539   , 23.05838144, 25.15499761,\n",
    "                          24.6564006 , 15.80391238, 18.45393812, 21.65631716, 24.87772564,\n",
    "                          17.60412881, 19.07170512, 14.46832513, 14.01896688, 24.06262911,\n",
    "                          26.78120014, 19.63994939, 25.01766449, 21.80818013, 16.77440123,\n",
    "                          21.80697803, 27.69018283, 19.8208698 , 27.82321828,  6.90127448,\n",
    "                          24.10951252, 20.43523534, 18.50496325, 20.45880388, 10.06215543,\n",
    "                          18.90164056, 21.78556286, 27.38947022, 17.40864891, 15.95753199,\n",
    "                          17.49121478, 24.57701059, 21.64375555, 17.35119898, 22.56633717,\n",
    "                          20.48538775, 24.84322495, 16.48973453, 18.36168927, 18.03945923,\n",
    "                          12.68242526, 21.48060139, 21.30527636, 20.02556728, 18.82706433])}],\n",
    "    'layout': {'title': {'text': 'Trieste Daily Temperatures'},\n",
    "               'xaxis': {'title': {'text': 'Day'}},\n",
    "               'yaxis': {'title': {'text': 'Temperature'}}}\n",
    "})"
   ]
  },
  {
   "cell_type": "code",
   "execution_count": null,
   "id": "4720a89e-30c1-4bad-bb16-9166213dac85",
   "metadata": {},
   "outputs": [],
   "source": [
    "type(figc)"
   ]
  },
  {
   "cell_type": "code",
   "execution_count": null,
   "id": "b6b66952-45a7-48de-b09a-3df294fd3997",
   "metadata": {},
   "outputs": [],
   "source": [
    "go.Figure(figc)"
   ]
  },
  {
   "cell_type": "code",
   "execution_count": null,
   "id": "291637bb-2964-4ec3-874f-9a4e6d215548",
   "metadata": {},
   "outputs": [],
   "source": [
    "import plotly.express as px"
   ]
  },
  {
   "cell_type": "code",
   "execution_count": null,
   "id": "98abbb6f-cc2c-441c-b33e-ec4d9c0a2b02",
   "metadata": {},
   "outputs": [],
   "source": [
    "temperature = np.random.normal(loc=20, scale=5, size=365)  # Mean temperature 20°C, Standar deviation 5°C\n",
    "# Crea l'istogramma con Plotly Express\n",
    "fig = px.histogram(\n",
    "    x=temperature,\n",
    "    nbins=15,  # Numero di intervalli dell'istogramma\n",
    "    title=\"Distribuzione della Temperatura\",\n",
    "    labels={\"x\": \"Temperatura (°C)\"},\n",
    "    template=\"plotly_white\"\n",
    ")\n",
    "\n",
    "# Personalizza l'asse y\n",
    "fig.update_layout(\n",
    "    xaxis_title=\"Temperatura (°C)\",\n",
    "    yaxis_title=\"Conteggio\",\n",
    "    bargap=0.1  # Spaziatura tra le barre\n",
    ")\n",
    "\n",
    "# Mostra il grafico\n",
    "fig.show()"
   ]
  },
  {
   "cell_type": "code",
   "execution_count": null,
   "id": "7dcb6dc8-ef58-48b0-bff2-edb42b08e786",
   "metadata": {},
   "outputs": [],
   "source": [
    "# Crea il box plot con Plotly Express\n",
    "fig = px.box(y=temperature, title='Box Plot delle temperature')\n",
    "fig.update_layout(width=300, height=400)\n",
    "fig.show()"
   ]
  },
  {
   "cell_type": "code",
   "execution_count": null,
   "id": "88782e8c-731f-47a7-8be2-92933df7815e",
   "metadata": {},
   "outputs": [],
   "source": [
    "import pandas as pd \n",
    "emission = pd.read_csv('data/co-emissions-per-capita.csv')"
   ]
  },
  {
   "cell_type": "code",
   "execution_count": null,
   "id": "4db10e0d-a3a5-40db-9b3f-0c42587475f0",
   "metadata": {},
   "outputs": [],
   "source": [
    "emission"
   ]
  },
  {
   "cell_type": "code",
   "execution_count": null,
   "id": "944a49ad-4eaf-41d6-abb3-ead509422dcb",
   "metadata": {},
   "outputs": [],
   "source": [
    "cond1 = (emission['Entity'] == 'Africa') & (emission['Year'] > 1980)"
   ]
  },
  {
   "cell_type": "code",
   "execution_count": null,
   "id": "6dbf06f5-959b-4cb3-a637-b5d1d97c1cd2",
   "metadata": {},
   "outputs": [],
   "source": [
    "cond2 = (emission['Entity'] == 'European Union (27)') & (emission['Year'] > 1980)"
   ]
  },
  {
   "cell_type": "code",
   "execution_count": null,
   "id": "b7cdce15-7945-4821-8413-aa64a8b23451",
   "metadata": {},
   "outputs": [],
   "source": [
    "cond3 = (emission['Entity'] == 'United States') & (emission['Year'] > 1980)"
   ]
  },
  {
   "cell_type": "code",
   "execution_count": null,
   "id": "ab078a33-ac40-4791-9307-2a6bf5f16d45",
   "metadata": {},
   "outputs": [],
   "source": [
    "cond4 = (emission['Entity'] == 'China') & (emission['Year'] > 1980)"
   ]
  },
  {
   "cell_type": "code",
   "execution_count": null,
   "id": "39c56abe-9486-4df7-b443-39b805617246",
   "metadata": {},
   "outputs": [],
   "source": [
    "cond5 = (emission['Entity'] == 'Russia') & (emission['Year'] > 1980)"
   ]
  },
  {
   "cell_type": "code",
   "execution_count": null,
   "id": "2621a9eb-9498-4b57-b34e-1588a6d727bd",
   "metadata": {},
   "outputs": [],
   "source": [
    "cond6 = (emission['Entity'] == 'Italy') & (emission['Year'] > 1980)"
   ]
  },
  {
   "cell_type": "code",
   "execution_count": null,
   "id": "2da62107-e228-447d-a9a9-f8eb33247f6c",
   "metadata": {},
   "outputs": [],
   "source": [
    "cond7 = (emission['Entity'] == 'India') & (emission['Year'] > 1980)"
   ]
  },
  {
   "cell_type": "code",
   "execution_count": null,
   "id": "d0cb72a3-7daa-4b30-86a6-949bd7f31377",
   "metadata": {},
   "outputs": [],
   "source": [
    "cond8 = (emission['Entity'] == 'United Kingdom') & (emission['Year'] > 1980)"
   ]
  },
  {
   "cell_type": "code",
   "execution_count": null,
   "id": "189d4bd1-e5d5-4da1-a493-327af1fee68f",
   "metadata": {},
   "outputs": [],
   "source": [
    "emission['Entity'].unique()"
   ]
  },
  {
   "cell_type": "code",
   "execution_count": null,
   "id": "1533af8e-75c9-4777-be93-482e50c1c35b",
   "metadata": {},
   "outputs": [],
   "source": [
    "emission_sel = emission.loc[cond1 | cond2 | cond3 | cond4 | cond5 | cond7]"
   ]
  },
  {
   "cell_type": "code",
   "execution_count": null,
   "id": "ac728cda-b2da-40d1-a515-0beb7fbbe50f",
   "metadata": {},
   "outputs": [],
   "source": [
    "emission_sel['Entity'].unique()"
   ]
  },
  {
   "cell_type": "code",
   "execution_count": null,
   "id": "84430dea-53c1-4710-849f-0c32eae72a07",
   "metadata": {},
   "outputs": [],
   "source": [
    "fig = px.line(\n",
    "data_frame=emission_sel,\n",
    "x='Year',\n",
    "y='Annual CO₂ emissions (per capita)',\n",
    "title='Annual CO₂ emissions (per capita)',\n",
    "line_dash='Entity')\n",
    "fig.show()"
   ]
  },
  {
   "cell_type": "code",
   "execution_count": null,
   "id": "4c685c9f-635a-49d8-b10a-03cb48800ec2",
   "metadata": {},
   "outputs": [],
   "source": [
    "fig = px.line(\n",
    "data_frame=emission_sel,\n",
    "x='Year',\n",
    "y='Annual CO₂ emissions (per capita)',\n",
    "title='Annual CO₂ emissions (per capita)',\n",
    "color='Entity',\n",
    "line_dash='Entity')\n",
    "fig.show()"
   ]
  },
  {
   "cell_type": "code",
   "execution_count": null,
   "id": "b4cd2d30-d33e-413c-9450-e3f8ba7e665a",
   "metadata": {},
   "outputs": [],
   "source": [
    "fig = px.bar(data_frame=emission_sel, x='Year', y='Annual CO₂ emissions (per capita)',hover_data='Code', color='Entity')\n",
    "fig.show()"
   ]
  },
  {
   "cell_type": "code",
   "execution_count": null,
   "id": "bb067f77-18ee-48ea-a014-9bbf060115c4",
   "metadata": {},
   "outputs": [],
   "source": [
    "fig = px.bar(data_frame=emission_sel, x='Year', y='Annual CO₂ emissions (per capita)',hover_data='Code', color='Entity')\n",
    "fig = fig.update_layout({\n",
    "'showlegend': True,\n",
    "'legend': {\n",
    "'title': 'Region',\n",
    "'x': 0.1, 'y': 0.9,\n",
    "'bgcolor': 'rgb(211,111,100)'}\n",
    "})\n",
    "fig.show()"
   ]
  },
  {
   "cell_type": "markdown",
   "id": "4d374ce6-7bb2-42b3-aaca-8f0720ccdd3e",
   "metadata": {},
   "source": [
    "ref: https://plotly.com/python/reference/layout/"
   ]
  },
  {
   "cell_type": "code",
   "execution_count": null,
   "id": "f03397c4-093f-4c89-a0cf-92762adff1f4",
   "metadata": {},
   "outputs": [],
   "source": [
    "emission_sel_sum = emission_sel.groupby('Entity')['Annual CO₂ emissions (per capita)'].sum()"
   ]
  },
  {
   "cell_type": "code",
   "execution_count": null,
   "id": "90b58cd1-f75b-41e2-97b7-0fb2a3e8b787",
   "metadata": {},
   "outputs": [],
   "source": [
    "emission_sel_sum"
   ]
  },
  {
   "cell_type": "code",
   "execution_count": null,
   "id": "65221c0f-3355-460f-9df6-00ed145ac89d",
   "metadata": {},
   "outputs": [],
   "source": [
    "# Use `hole` to create a donut-like pie chart\n",
    "fig = go.Figure(data=[go.Pie(labels=emission_sel_sum.index.tolist(), values=emission_sel_sum.values, hole=.3)])\n",
    "fig.show()"
   ]
  },
  {
   "cell_type": "code",
   "execution_count": null,
   "id": "da2df181-5b53-4f5e-beea-1934a2f5774d",
   "metadata": {},
   "outputs": [],
   "source": [
    "fig = px.bar(data_frame=emission_sel, x='Year', y='Annual CO₂ emissions (per capita)',color='Year',color_continuous_scale='inferno')\n",
    "fig.show()"
   ]
  },
  {
   "cell_type": "code",
   "execution_count": null,
   "id": "988257fe-3039-40f8-ade4-2a754db3cbe4",
   "metadata": {},
   "outputs": [],
   "source": [
    "fig = px.scatter(data_frame=emission_sel, x='Year', y='Annual CO₂ emissions (per capita)',color='Entity')\n",
    "fig.show()"
   ]
  },
  {
   "cell_type": "code",
   "execution_count": null,
   "id": "1505766a-2be6-465c-b0bc-0aa58f05adbd",
   "metadata": {},
   "outputs": [],
   "source": [
    "fig = px.bar(\n",
    "data_frame=emission_sel,\n",
    "x='Year', y='Entity',\n",
    "title=\"Student Scores by Student\",\n",
    "color_discrete_map={\n",
    "'Africa': 'rgb(0,0,128)',\n",
    "'Europe': 'rgb(235, 207, 52)'},\n",
    "color='Annual CO₂ emissions (per capita)')"
   ]
  },
  {
   "cell_type": "code",
   "execution_count": null,
   "id": "a3eb0f37-cc31-4bd0-aa26-16599901f0e2",
   "metadata": {},
   "outputs": [],
   "source": [
    "fig"
   ]
  },
  {
   "cell_type": "code",
   "execution_count": null,
   "id": "6e0abb3d-0f82-472b-9d15-c64649d9fdcf",
   "metadata": {},
   "outputs": [],
   "source": [
    "emission_sel.loc[:,'Entity']"
   ]
  },
  {
   "cell_type": "code",
   "execution_count": null,
   "id": "aa9090a5-22f5-457f-9b53-483111f5ff5c",
   "metadata": {},
   "outputs": [],
   "source": [
    "import plotly.graph_objects as go\n",
    "fig = go.Figure(go.Heatmap(        \n",
    "    x=emission_sel.loc[:,'Entity'],        \n",
    "    y=emission_sel.loc[:,'Year'],        \n",
    "    z=emission_sel.loc[:,'Annual CO₂ emissions (per capita)'].tolist(),        \n",
    "    colorscale='rdylgn_r'))#, zmin=0, zmax=20000000000))\n",
    "fig.show()"
   ]
  },
  {
   "cell_type": "code",
   "execution_count": null,
   "id": "19af1418-c20d-4fb3-baea-8569779d700b",
   "metadata": {},
   "outputs": [],
   "source": [
    "import plotly.graph_objects as go\n",
    "fig = go.Figure(go.Heatmap(        \n",
    "    y=emission_sel.loc[:,'Entity'],        \n",
    "    x=emission_sel.loc[:,'Year'],        \n",
    "    z=emission_sel.loc[:,'Annual CO₂ emissions (per capita)'].tolist(),        \n",
    "    colorscale='rdylgn_r'))#, zmin=0, zmax=20000000000))\n",
    "fig.show()"
   ]
  },
  {
   "cell_type": "code",
   "execution_count": null,
   "id": "267c0350-8b0b-4453-a4e2-1674eb33ed3b",
   "metadata": {},
   "outputs": [],
   "source": [
    "emission_tot = pd.read_csv('data/annual-co-emissions-by-region.csv')"
   ]
  },
  {
   "cell_type": "code",
   "execution_count": null,
   "id": "03359372-6b14-44f3-9859-72e0830b28e4",
   "metadata": {},
   "outputs": [],
   "source": []
  },
  {
   "cell_type": "code",
   "execution_count": null,
   "id": "1fc2eedf-0389-4a3c-84ad-b467b4d988b8",
   "metadata": {},
   "outputs": [],
   "source": [
    "cond1 = (emission_tot['Entity'] == 'Africa') & (emission_tot['Year'] > 1980)"
   ]
  },
  {
   "cell_type": "code",
   "execution_count": null,
   "id": "6e6e85e0-888a-473c-961b-f9c24ae910a2",
   "metadata": {},
   "outputs": [],
   "source": [
    "cond2 = (emission_tot['Entity'] == 'European Union (27)') & (emission_tot['Year'] > 1980)"
   ]
  },
  {
   "cell_type": "code",
   "execution_count": null,
   "id": "df264dd2-3481-4476-a820-ff6c87ef99dd",
   "metadata": {},
   "outputs": [],
   "source": [
    "cond3 = (emission_tot['Entity'] == 'United States') & (emission_tot['Year'] > 1980)"
   ]
  },
  {
   "cell_type": "code",
   "execution_count": null,
   "id": "3250ad8b-0fea-4894-9922-f7073bdb9201",
   "metadata": {},
   "outputs": [],
   "source": [
    "cond4 = (emission_tot['Entity'] == 'China') & (emission_tot['Year'] > 1980)"
   ]
  },
  {
   "cell_type": "code",
   "execution_count": null,
   "id": "893952c3-d9f7-4e2c-a9ce-0af84d91f788",
   "metadata": {},
   "outputs": [],
   "source": [
    "cond5 = (emission_tot['Entity'] == 'Russia') & (emission_tot['Year'] > 1980)"
   ]
  },
  {
   "cell_type": "code",
   "execution_count": null,
   "id": "2248009c-9ae3-4790-b935-413cf309e519",
   "metadata": {},
   "outputs": [],
   "source": [
    "cond6 = (emission_tot['Entity'] == 'Italy') & (emission_tot['Year'] > 1980)"
   ]
  },
  {
   "cell_type": "code",
   "execution_count": null,
   "id": "1f68f85a-bc6e-4f8f-88bb-834618e8f8c7",
   "metadata": {},
   "outputs": [],
   "source": [
    "cond7 = (emission_tot['Entity'] == 'India') & (emission_tot['Year'] > 1980)"
   ]
  },
  {
   "cell_type": "code",
   "execution_count": null,
   "id": "ecd0cb26-9146-4ec1-9f3b-3493a643ce47",
   "metadata": {},
   "outputs": [],
   "source": [
    "cond8 = (emission_tot['Entity'] == 'United Kingdom') & (emission_tot['Year'] > 1980)"
   ]
  },
  {
   "cell_type": "code",
   "execution_count": null,
   "id": "63105af5-597b-4702-a376-5df38e64ea48",
   "metadata": {},
   "outputs": [],
   "source": [
    "emission_tot_sel = emission_tot.loc[cond1 | cond2 | cond3 | cond4 | cond5 | cond7]"
   ]
  },
  {
   "cell_type": "code",
   "execution_count": null,
   "id": "c9f609e6-63f9-4113-bb30-6f9e0ed5e4a0",
   "metadata": {},
   "outputs": [],
   "source": [
    "emission_tot_sel_sum = emission_tot_sel.groupby('Entity')['Annual CO₂ emissions'].sum()"
   ]
  },
  {
   "cell_type": "code",
   "execution_count": null,
   "id": "b5b1fa3f-2cc7-442d-8396-4408a03235a6",
   "metadata": {},
   "outputs": [],
   "source": [
    "emission_tot_sel_sum"
   ]
  },
  {
   "cell_type": "code",
   "execution_count": null,
   "id": "f7e32140-34eb-40f3-8d9c-d7c367fd871d",
   "metadata": {},
   "outputs": [],
   "source": [
    "# Use `hole` to create a donut-like pie chart\n",
    "fig = go.Figure(data=[go.Pie(labels=emission_tot_sel_sum.index.tolist(), values=emission_tot_sel_sum.values, hole=.3)])\n",
    "fig.show()"
   ]
  },
  {
   "cell_type": "code",
   "execution_count": null,
   "id": "9a89818b-55c6-4e5a-8a71-d94b9e2c6775",
   "metadata": {},
   "outputs": [],
   "source": [
    "import plotly.graph_objects as go\n",
    "fig = go.Figure(go.Heatmap(        \n",
    "    y=emission_tot_sel.loc[:,'Entity'],        \n",
    "    x=emission_tot_sel.loc[:,'Year'],        \n",
    "    z=emission_tot_sel.loc[:,'Annual CO₂ emissions'].tolist(),        \n",
    "    colorscale='rdylgn_r'))#, zmin=0, zmax=20000000000))\n",
    "fig.show()"
   ]
  },
  {
   "cell_type": "markdown",
   "id": "18c4476b-60b0-4af9-a06d-730490e4ae83",
   "metadata": {},
   "source": [
    "### Open the dataset"
   ]
  },
  {
   "cell_type": "code",
   "execution_count": null,
   "id": "53c016ec",
   "metadata": {
    "slideshow": {
     "slide_type": "slide"
    }
   },
   "outputs": [],
   "source": [
    "import xarray as xr\n",
    "import matplotlib.pyplot as plt\n",
    "import numpy as np"
   ]
  },
  {
   "cell_type": "code",
   "execution_count": null,
   "id": "f6f297a3",
   "metadata": {},
   "outputs": [],
   "source": [
    "ds = xr.open_dataset('data/20230101_m-OGS--PFTC-MedBFM4-MED-b20230214_an-sv08.00_lev.nc')"
   ]
  },
  {
   "cell_type": "code",
   "execution_count": null,
   "id": "f486da24",
   "metadata": {
    "slideshow": {
     "slide_type": "slide"
    }
   },
   "outputs": [],
   "source": [
    "ds"
   ]
  },
  {
   "cell_type": "code",
   "execution_count": null,
   "id": "7fb48cd3",
   "metadata": {
    "slideshow": {
     "slide_type": "slide"
    }
   },
   "outputs": [],
   "source": [
    "ds.data_vars"
   ]
  },
  {
   "cell_type": "code",
   "execution_count": null,
   "id": "6a9b9f37",
   "metadata": {},
   "outputs": [],
   "source": [
    "ds.phyc.long_name"
   ]
  },
  {
   "cell_type": "code",
   "execution_count": null,
   "id": "e37cf83e",
   "metadata": {},
   "outputs": [],
   "source": [
    "phytoplankton = ds.phyc\n",
    "chlorophyll = ds.chl"
   ]
  },
  {
   "cell_type": "code",
   "execution_count": null,
   "id": "6e189cd1",
   "metadata": {},
   "outputs": [],
   "source": [
    "chlorophyll"
   ]
  },
  {
   "cell_type": "code",
   "execution_count": null,
   "id": "3dec8045",
   "metadata": {},
   "outputs": [],
   "source": [
    "lon = ds.coords[\"longitude\"]\n",
    "lat = ds.coords[\"latitude\"]\n",
    "chlorophyll[0,0].loc[dict(longitude=lon[(lon > 10) & (lon < 20)], latitude=lat[(lat > 36) & (lat < 40)])].plot()"
   ]
  },
  {
   "cell_type": "code",
   "execution_count": null,
   "id": "f6da4e92",
   "metadata": {},
   "outputs": [],
   "source": [
    "chl_sicily_sea = chlorophyll[0].loc[dict(longitude=lon[(lon > 10) & (lon < 20)], latitude=lat[(lat > 36) & (lat < 40)])]\n",
    "chl_sicily_sea_surface = chlorophyll[0,0].loc[dict(longitude=lon[(lon > 10) & (lon < 20)], latitude=lat[(lat > 36) & (lat < 40)])]"
   ]
  },
  {
   "cell_type": "code",
   "execution_count": null,
   "id": "86550881",
   "metadata": {},
   "outputs": [],
   "source": [
    "print(chl_sicily_sea.shape)\n",
    "print(chl_sicily_sea_surface.shape)"
   ]
  },
  {
   "cell_type": "code",
   "execution_count": null,
   "id": "32aedb30",
   "metadata": {},
   "outputs": [],
   "source": [
    "fig = px.imshow(chl_sicily_sea_surface.values)\n",
    "fig.show()"
   ]
  },
  {
   "cell_type": "code",
   "execution_count": null,
   "id": "43433d0c",
   "metadata": {},
   "outputs": [],
   "source": [
    "import plotly.express as px\n",
    "fig = px.imshow(chl_sicily_sea_surface.values,\n",
    "                labels=dict(x=\"Longitude\", y=\"Latitude\", color=\"chlorophyll\"),\n",
    "                x=chl_sicily_sea_surface.longitude,\n",
    "                y=chl_sicily_sea_surface.latitude\n",
    "               )\n",
    "fig.update_xaxes(side=\"top\")\n",
    "fig.update_yaxes(autorange=True) \n",
    "fig.show()"
   ]
  },
  {
   "cell_type": "code",
   "execution_count": null,
   "id": "37279cf3-efee-40b7-b8a3-1122c378476e",
   "metadata": {},
   "outputs": [],
   "source": [
    "print(fig)"
   ]
  },
  {
   "cell_type": "code",
   "execution_count": null,
   "id": "a5d09ccb",
   "metadata": {},
   "outputs": [],
   "source": [
    "ds.isel(longitude=15)"
   ]
  },
  {
   "cell_type": "code",
   "execution_count": null,
   "id": "05efe0b3",
   "metadata": {},
   "outputs": [],
   "source": [
    "chl_sicily_sea.isel(longitude=10).values"
   ]
  },
  {
   "cell_type": "code",
   "execution_count": null,
   "id": "7413249f",
   "metadata": {},
   "outputs": [],
   "source": [
    "chl_lon10 = chl_sicily_sea.isel(longitude=10)"
   ]
  },
  {
   "cell_type": "code",
   "execution_count": null,
   "id": "e2971e0f",
   "metadata": {},
   "outputs": [],
   "source": [
    "named_colorscales = px.colors.named_colorscales()\n",
    "print(named_colorscales)"
   ]
  },
  {
   "cell_type": "code",
   "execution_count": null,
   "id": "df355738",
   "metadata": {},
   "outputs": [],
   "source": [
    "fig = px.colors.sequential.swatches_continuous()\n",
    "# px.colors.diverging.swatches_continuous()\n",
    "fig.show()"
   ]
  },
  {
   "cell_type": "code",
   "execution_count": null,
   "id": "f6c1967b",
   "metadata": {},
   "outputs": [],
   "source": [
    "chl_lon10.depth"
   ]
  },
  {
   "cell_type": "code",
   "execution_count": null,
   "id": "964051d8",
   "metadata": {
    "scrolled": true
   },
   "outputs": [],
   "source": [
    "import plotly.graph_objects as go\n",
    "\n",
    "\n",
    "fig = go.Figure()\n",
    "fig.add_trace(go.Histogram(x=ds.depth))\n",
    "fig.show()"
   ]
  },
  {
   "cell_type": "code",
   "execution_count": null,
   "id": "d03f8e0d",
   "metadata": {},
   "outputs": [],
   "source": [
    "fig = px.scatter(x=chl_lon10.depth,y=chl_lon10.depth)\n",
    "fig.show()"
   ]
  },
  {
   "cell_type": "code",
   "execution_count": null,
   "id": "69f1aed0",
   "metadata": {},
   "outputs": [],
   "source": [
    "fig = px.imshow(chl_lon10.values,\n",
    "                color_continuous_scale='algae',\n",
    "                width=800,\n",
    "                height=500\n",
    "               )\n",
    "fig.show()"
   ]
  },
  {
   "cell_type": "code",
   "execution_count": null,
   "id": "12d9182b",
   "metadata": {},
   "outputs": [],
   "source": [
    "fig = px.imshow(\n",
    "    chl_lon10,\n",
    "    color_continuous_scale='algae',\n",
    "    width=800,\n",
    "    height=500\n",
    ")\n",
    "fig.show()"
   ]
  },
  {
   "cell_type": "code",
   "execution_count": null,
   "id": "7006d658",
   "metadata": {},
   "outputs": [],
   "source": [
    "fig = px.imshow(\n",
    "    chl_sicily_sea, \n",
    "    animation_frame='depth',\n",
    "    origin='lower', \n",
    "    zmin=0.1, \n",
    "    zmax=0.4, \n",
    "    color_continuous_scale='jet')\n",
    "fig.update_layout(\n",
    "    autosize=False,\n",
    "    width=800,\n",
    "    height=500)\n",
    "fig.show()\n"
   ]
  },
  {
   "cell_type": "code",
   "execution_count": null,
   "id": "00984c66-569d-409c-abe4-d880e32755c8",
   "metadata": {},
   "outputs": [],
   "source": [
    "chl_sicily_sea"
   ]
  },
  {
   "cell_type": "code",
   "execution_count": null,
   "id": "0497e5eb-3471-4681-8f4a-91023f2337b0",
   "metadata": {},
   "outputs": [],
   "source": [
    "ds"
   ]
  },
  {
   "cell_type": "code",
   "execution_count": null,
   "id": "0f3d1192-bcde-4e33-9866-4c9c7843e449",
   "metadata": {},
   "outputs": [],
   "source": [
    "import plotly.subplots as sp\n",
    "# Scegli un livello temporale e di profondità\n",
    "selected_time = ds.time.values[0]  # Primo timestamp\n",
    "selected_depth = ds.depth.values[0]  # Primo livello di profondità\n",
    "\n",
    "# Estrai i dati delle variabili\n",
    "phyc_data = ds[\"phyc\"].sel(time=selected_time, depth=selected_depth)\n",
    "chl_data = ds[\"chl\"].sel(time=selected_time, depth=selected_depth)\n",
    "zooc_data = ds[\"zooc\"].sel(time=selected_time, depth=selected_depth)\n",
    "\n",
    "# Crea le sottotrame\n",
    "fig = sp.make_subplots(rows=1, cols=3, subplot_titles=[\"phyc\", \"chl\", \"zooc\"], shared_yaxes=True)\n",
    "\n",
    "# Aggiungi ogni variabile come Heatmap\n",
    "fig.add_trace(go.Heatmap(z=phyc_data.values, x=phyc_data.longitude, y=phyc_data.latitude, colorscale=\"Viridis\", name=\"phyc\"), row=1, col=1)\n",
    "fig.add_trace(go.Heatmap(z=chl_data.values, x=chl_data.longitude, y=chl_data.latitude, colorscale=\"Cividis\", name=\"chl\"), row=1, col=2)\n",
    "fig.add_trace(go.Heatmap(z=zooc_data.values, x=zooc_data.longitude, y=zooc_data.latitude, colorscale=\"Plasma\", name=\"zooc\"), row=1, col=3)\n",
    "\n",
    "# Configura il layout\n",
    "fig.update_layout(\n",
    "    title=f\"Mappe di phyc, chl, e zooc (Tempo: {str(selected_time)}, Profondità: {selected_depth:.2f} m)\",\n",
    "    xaxis_title=\"Longitudine\",\n",
    "    yaxis_title=\"Latitudine\",\n",
    "    template=\"plotly_white\"\n",
    ")\n",
    "\n",
    "# Mostra il grafico\n",
    "fig.show()"
   ]
  },
  {
   "cell_type": "code",
   "execution_count": null,
   "id": "50ec32e7-a513-4504-b7bf-3d20289335e7",
   "metadata": {},
   "outputs": [],
   "source": [
    "# Crea le sottotrame\n",
    "fig = sp.make_subplots(rows=1, cols=3, subplot_titles=[\"phyc\", \"chl\", \"zooc\"], shared_yaxes=True)\n",
    "\n",
    "# Aggiungi ogni variabile come Heatmap con coloraxis separati\n",
    "fig.add_trace(\n",
    "    go.Heatmap(\n",
    "        z=phyc_data.values,\n",
    "        x=phyc_data.longitude,\n",
    "        y=phyc_data.latitude,\n",
    "        colorscale=\"Viridis\",\n",
    "        coloraxis=\"coloraxis1\",\n",
    "        name=\"phyc\"\n",
    "    ), \n",
    "    row=1, \n",
    "    col=1\n",
    ")\n",
    "fig.add_trace(\n",
    "    go.Heatmap(\n",
    "        z=chl_data.values,\n",
    "        x=chl_data.longitude,\n",
    "        y=chl_data.latitude,\n",
    "        colorscale=\"Cividis\",\n",
    "        coloraxis=\"coloraxis2\",\n",
    "        name=\"chl\"\n",
    "    ), \n",
    "    row=1, \n",
    "    col=2\n",
    ")\n",
    "fig.add_trace(\n",
    "    go.Heatmap(\n",
    "        z=zooc_data.values,\n",
    "        x=zooc_data.longitude,\n",
    "        y=zooc_data.latitude,\n",
    "        colorscale=\"Plasma\",\n",
    "        coloraxis=\"coloraxis3\",\n",
    "        name=\"zooc\"\n",
    "    ), \n",
    "    row=1, \n",
    "    col=3\n",
    ")\n",
    "\n",
    "# Configura le colorbar nel layout con posizioni diverse\n",
    "fig.update_layout(\n",
    "    coloraxis1=dict(colorbar=dict(title=\"phyc\", len=0.6, y=0.5, x=0.29)),  # Prima colorbar (centrata sulla prima mappa)\n",
    "    coloraxis2=dict(colorbar=dict(title=\"chl\", len=0.6, y=0.5, x=0.64)),   # Seconda colorbar (centrata sulla seconda mappa)\n",
    "    coloraxis3=dict(colorbar=dict(title=\"zooc\", len=0.6, y=0.5, x=0.999)),  # Terza colorbar (centrata sulla terza mappa)\n",
    "    title=f\"Mappe di phyc, chl, e zooc (Tempo: {str(selected_time)}, Profondità: {selected_depth:.2f} m)\",\n",
    "    xaxis_title=\"Longitudine\",\n",
    "    yaxis_title=\"Latitudine\",\n",
    "    template=\"plotly_white\"\n",
    ")\n",
    "\n",
    "# Mostra il grafico\n",
    "fig.show()\n"
   ]
  },
  {
   "cell_type": "code",
   "execution_count": null,
   "id": "c120ec94-c4f9-4a8a-9920-934177ea4c08",
   "metadata": {},
   "outputs": [],
   "source": [
    "# Scegli un livello temporale\n",
    "selected_time = ds.time.values[0]  # Primo timestamp\n",
    "\n",
    "# Inizializza con un livello di profondità di default\n",
    "initial_depth = ds.depth.values[0]\n",
    "\n",
    "# Funzione per creare le sottotrame in base al livello di profondità selezionato\n",
    "def create_figure(depth_level):\n",
    "    # Estrai i dati delle variabili per il livello di profondità\n",
    "    phyc_data = ds[\"phyc\"].sel(time=selected_time, depth=depth_level)\n",
    "    chl_data = ds[\"chl\"].sel(time=selected_time, depth=depth_level)\n",
    "    zooc_data = ds[\"zooc\"].sel(time=selected_time, depth=depth_level)\n",
    "\n",
    "    # Crea le sottotrame\n",
    "    fig = sp.make_subplots(rows=1, cols=3, subplot_titles=[\"phyc\", \"chl\", \"zooc\"], shared_yaxes=True)\n",
    "\n",
    "    # Aggiungi ogni variabile come Heatmap con coloraxis separati\n",
    "    fig.add_trace(\n",
    "        go.Heatmap(\n",
    "            z=phyc_data.values,\n",
    "            x=phyc_data.longitude,\n",
    "            y=phyc_data.latitude,\n",
    "            colorscale=\"Viridis\",\n",
    "            coloraxis=\"coloraxis1\",\n",
    "            name=\"phyc\"\n",
    "        ), \n",
    "        row=1, \n",
    "        col=1\n",
    "    )\n",
    "    fig.add_trace(\n",
    "        go.Heatmap(\n",
    "            z=chl_data.values,\n",
    "            x=chl_data.longitude,\n",
    "            y=chl_data.latitude,\n",
    "            colorscale=\"Cividis\",\n",
    "            coloraxis=\"coloraxis2\",\n",
    "            name=\"chl\"\n",
    "        ), \n",
    "        row=1, \n",
    "        col=2\n",
    "    )\n",
    "    fig.add_trace(\n",
    "        go.Heatmap(\n",
    "            z=zooc_data.values,\n",
    "            x=zooc_data.longitude,\n",
    "            y=zooc_data.latitude,\n",
    "            colorscale=\"Plasma\",\n",
    "            coloraxis=\"coloraxis3\",\n",
    "            name=\"zooc\"\n",
    "        ), \n",
    "        row=1, \n",
    "        col=3\n",
    "    )\n",
    "\n",
    "    # Configura le colorbar nel layout\n",
    "    fig.update_layout(\n",
    "        coloraxis1=dict(colorbar=dict(title=\"phyc\", len=0.6, y=0.5, x=0.28)),\n",
    "        coloraxis2=dict(colorbar=dict(title=\"chl\", len=0.6, y=0.5, x=0.64)),\n",
    "        coloraxis3=dict(colorbar=dict(title=\"zooc\", len=0.6, y=0.5, x=0.99)),\n",
    "        title=f\"Mappe di phyc, chl, e zooc (Tempo: {str(selected_time)}, Profondità: {depth_level:.2f} m)\",\n",
    "        xaxis_title=\"Longitudine\",\n",
    "        yaxis_title=\"Latitudine\",\n",
    "        template=\"plotly_white\"\n",
    "    )\n",
    "    return fig\n",
    "\n",
    "# Crea la figura iniziale\n",
    "fig = create_figure(initial_depth)\n",
    "\n",
    "# Aggiungi lo slider per selezionare il livello di profondità\n",
    "steps = []\n",
    "for depth in ds.depth.values:\n",
    "    step = dict(\n",
    "        method=\"animate\",\n",
    "        args=[\n",
    "            [f\"depth-{depth:.2f}\"],  # Nome dell'animazione\n",
    "            {\n",
    "                \"mode\": \"immediate\",\n",
    "                \"frame\": {\"duration\": 300, \"redraw\": True},\n",
    "                \"transition\": {\"duration\": 300},\n",
    "            },\n",
    "        ],\n",
    "        label=f\"{depth:.2f} m\",\n",
    "    )\n",
    "    steps.append(step)\n",
    "\n",
    "sliders = [\n",
    "    dict(\n",
    "        active=0,\n",
    "        currentvalue={\"prefix\": \"Profondità: \", \"font\": {\"size\": 16}},\n",
    "        pad={\"t\": 50},\n",
    "        steps=steps,\n",
    "    )\n",
    "]\n",
    "\n",
    "# Aggiungi frame per ciascun livello\n",
    "frames = []\n",
    "for depth in ds.depth.values:\n",
    "    frame = go.Frame(\n",
    "        data=create_figure(depth).data,\n",
    "        name=f\"depth-{depth:.2f}\"\n",
    "    )\n",
    "    frames.append(frame)\n",
    "\n",
    "fig.update(frames=frames)\n",
    "fig.update_layout(updatemenus=[dict(type=\"buttons\", showactive=False, buttons=[dict(label=\"Play\", method=\"animate\", args=[None, {\"frame\": {\"duration\": 500, \"redraw\": True}, \"fromcurrent\": True}]), dict(label=\"Pause\", method=\"animate\", args=[[None], {\"frame\": {\"duration\": 0, \"redraw\": False}, \"mode\": \"immediate\"}])])], sliders=sliders)\n",
    "fig.update_layout(width=1200,height=500)\n",
    "# Mostra il grafico interattivo\n",
    "fig.show()\n"
   ]
  },
  {
   "cell_type": "code",
   "execution_count": null,
   "id": "fa17b6be-1b64-4a13-a19d-93e8810dbf05",
   "metadata": {},
   "outputs": [],
   "source": []
  }
 ],
 "metadata": {
  "celltoolbar": "Slideshow",
  "kernelspec": {
   "display_name": "Python 3 (ipykernel)",
   "language": "python",
   "name": "python3"
  },
  "language_info": {
   "codemirror_mode": {
    "name": "ipython",
    "version": 3
   },
   "file_extension": ".py",
   "mimetype": "text/x-python",
   "name": "python",
   "nbconvert_exporter": "python",
   "pygments_lexer": "ipython3",
   "version": "3.13.0"
  }
 },
 "nbformat": 4,
 "nbformat_minor": 5
}
